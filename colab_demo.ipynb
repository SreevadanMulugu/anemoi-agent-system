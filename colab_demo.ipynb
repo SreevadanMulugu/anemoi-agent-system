{
  "cells": [
    {
      "cell_type": "markdown",
      "metadata": {},
      "source": [
        "# Anemoi Semi-Centralized Multi-Agent System\n",
        "\n",
        "A hybrid system combining Anemoi's agent-to-agent communication architecture with RL-style retrieval and metrics, using only local models via Ollama.\n",
        "\n",
        "## Features\n",
        "- **Semi-Centralized Architecture**: Agent-to-agent communication\n",
        "- **Local Models Only**: Uses Ollama with MiniCPM-4.1-8B and GPT-OSS-20B\n",
        "- **Automatic Setup**: Handles Ollama installation and model pulling\n",
        "- **RL-Style Metrics**: Confidence, quality, efficiency, and reward scoring\n",
        "- **RAG Integration**: Retrieval-augmented generation with fallback\n",
        "- **No External Dependencies**: Works completely offline\n"
      ]
    },
    {
      "cell_type": "markdown",
      "metadata": {},
      "source": [
        "## 🚀 Setup and Installation\n"
      ]
    },
    {
      "cell_type": "code",
      "execution_count": null,
      "metadata": {},
      "outputs": [],
      "source": [
        "# Clone the repository\n",
        "!git clone https://github.com/yourusername/anemoi-agent-system.git\n",
        "%cd anemoi-agent-system\n",
        "\n",
        "# Install dependencies\n",
        "!pip install requests asyncio\n",
        "\n",
        "# Run the Colab setup script\n",
        "!python colab_setup.py\n"
      ]
    },
    {
      "cell_type": "markdown",
      "metadata": {},
      "source": [
        "## 🤖 Demo: Interactive Mode\n"
      ]
    },
    {
      "cell_type": "code",
      "execution_count": null,
      "metadata": {},
      "outputs": [],
      "source": [
        "# Run the system in interactive mode\n",
        "!python start_anemoi.py --interactive\n"
      ]
    },
    {
      "cell_type": "markdown",
      "metadata": {},
      "source": [
        "## 🎯 Demo: Single Query\n"
      ]
    },
    {
      "cell_type": "code",
      "execution_count": null,
      "metadata": {},
      "outputs": [],
      "source": [
        "# Example 1: Mathematical calculation\n",
        "!python start_anemoi.py -q \"What is 2+2?\"\n"
      ]
    },
    {
      "cell_type": "code",
      "execution_count": null,
      "metadata": {},
      "outputs": [],
      "source": [
        "# Example 2: Complex reasoning\n",
        "!python start_anemoi.py -q \"Calculate the area of a circle with radius 5 and explain the formula\"\n"
      ]
    },
    {
      "cell_type": "code",
      "execution_count": null,
      "metadata": {},
      "outputs": [],
      "source": [
        "# Example 3: Information retrieval\n",
        "!python start_anemoi.py -q \"What are the key features of semi-centralized multi-agent systems?\"\n"
      ]
    },
    {
      "cell_type": "markdown",
      "metadata": {},
      "source": [
        "## 📊 View RL Metrics\n"
      ]
    },
    {
      "cell_type": "code",
      "execution_count": null,
      "metadata": {},
      "outputs": [],
      "source": [
        "# View collected metrics\n",
        "!python start_anemoi.py --metrics\n"
      ]
    }
  ],
  "metadata": {
    "language_info": {
      "name": "python"
    }
  },
  "nbformat": 4,
  "nbformat_minor": 2
}
